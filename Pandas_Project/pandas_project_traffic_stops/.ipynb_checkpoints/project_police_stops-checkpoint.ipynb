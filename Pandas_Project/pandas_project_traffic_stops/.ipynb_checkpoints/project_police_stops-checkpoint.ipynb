{
 "cells": [
  {
   "cell_type": "code",
   "execution_count": 1,
   "id": "b339736d",
   "metadata": {},
   "outputs": [],
   "source": [
    "## Importing Required Libraries\n",
    "\n",
    "import pandas as pd\n",
    "import numpy as np\n",
    "\n",
    "# Data Visualisation\n",
    "import matplotlib.pyplot as plt\n",
    "%matplotlib inline\n",
    "\n",
    "import seaborn as sns\n",
    "\n",
    "import warnings\n",
    "warnings.filterwarnings('ignore')"
   ]
  },
  {
   "cell_type": "code",
   "execution_count": 2,
   "id": "b70a7799",
   "metadata": {},
   "outputs": [],
   "source": [
    "df = pd.read_csv('police.csv')"
   ]
  },
  {
   "cell_type": "code",
   "execution_count": 3,
   "id": "096244bf",
   "metadata": {},
   "outputs": [
    {
     "data": {
      "text/html": [
       "<div>\n",
       "<style scoped>\n",
       "    .dataframe tbody tr th:only-of-type {\n",
       "        vertical-align: middle;\n",
       "    }\n",
       "\n",
       "    .dataframe tbody tr th {\n",
       "        vertical-align: top;\n",
       "    }\n",
       "\n",
       "    .dataframe thead th {\n",
       "        text-align: right;\n",
       "    }\n",
       "</style>\n",
       "<table border=\"1\" class=\"dataframe\">\n",
       "  <thead>\n",
       "    <tr style=\"text-align: right;\">\n",
       "      <th></th>\n",
       "      <th>stop_date</th>\n",
       "      <th>stop_time</th>\n",
       "      <th>county_name</th>\n",
       "      <th>driver_gender</th>\n",
       "      <th>driver_age_raw</th>\n",
       "      <th>driver_age</th>\n",
       "      <th>driver_race</th>\n",
       "      <th>violation_raw</th>\n",
       "      <th>violation</th>\n",
       "      <th>search_conducted</th>\n",
       "      <th>search_type</th>\n",
       "      <th>stop_outcome</th>\n",
       "      <th>is_arrested</th>\n",
       "      <th>stop_duration</th>\n",
       "      <th>drugs_related_stop</th>\n",
       "    </tr>\n",
       "  </thead>\n",
       "  <tbody>\n",
       "    <tr>\n",
       "      <th>0</th>\n",
       "      <td>02-01-2005</td>\n",
       "      <td>01:55</td>\n",
       "      <td>NaN</td>\n",
       "      <td>M</td>\n",
       "      <td>1985.0</td>\n",
       "      <td>20.0</td>\n",
       "      <td>White</td>\n",
       "      <td>Speeding</td>\n",
       "      <td>Speeding</td>\n",
       "      <td>False</td>\n",
       "      <td>NaN</td>\n",
       "      <td>Citation</td>\n",
       "      <td>False</td>\n",
       "      <td>0-15 Min</td>\n",
       "      <td>False</td>\n",
       "    </tr>\n",
       "    <tr>\n",
       "      <th>1</th>\n",
       "      <td>18-01-2005</td>\n",
       "      <td>08:15</td>\n",
       "      <td>NaN</td>\n",
       "      <td>M</td>\n",
       "      <td>1965.0</td>\n",
       "      <td>40.0</td>\n",
       "      <td>White</td>\n",
       "      <td>Speeding</td>\n",
       "      <td>Speeding</td>\n",
       "      <td>False</td>\n",
       "      <td>NaN</td>\n",
       "      <td>Citation</td>\n",
       "      <td>False</td>\n",
       "      <td>0-15 Min</td>\n",
       "      <td>False</td>\n",
       "    </tr>\n",
       "    <tr>\n",
       "      <th>2</th>\n",
       "      <td>23-01-2005</td>\n",
       "      <td>23:15</td>\n",
       "      <td>NaN</td>\n",
       "      <td>M</td>\n",
       "      <td>1972.0</td>\n",
       "      <td>33.0</td>\n",
       "      <td>White</td>\n",
       "      <td>Speeding</td>\n",
       "      <td>Speeding</td>\n",
       "      <td>False</td>\n",
       "      <td>NaN</td>\n",
       "      <td>Citation</td>\n",
       "      <td>False</td>\n",
       "      <td>0-15 Min</td>\n",
       "      <td>False</td>\n",
       "    </tr>\n",
       "    <tr>\n",
       "      <th>3</th>\n",
       "      <td>20-02-2005</td>\n",
       "      <td>17:15</td>\n",
       "      <td>NaN</td>\n",
       "      <td>M</td>\n",
       "      <td>1986.0</td>\n",
       "      <td>19.0</td>\n",
       "      <td>White</td>\n",
       "      <td>Call for Service</td>\n",
       "      <td>Other</td>\n",
       "      <td>False</td>\n",
       "      <td>NaN</td>\n",
       "      <td>Arrest Driver</td>\n",
       "      <td>True</td>\n",
       "      <td>16-30 Min</td>\n",
       "      <td>False</td>\n",
       "    </tr>\n",
       "    <tr>\n",
       "      <th>4</th>\n",
       "      <td>14-03-2005</td>\n",
       "      <td>10:00</td>\n",
       "      <td>NaN</td>\n",
       "      <td>F</td>\n",
       "      <td>1984.0</td>\n",
       "      <td>21.0</td>\n",
       "      <td>White</td>\n",
       "      <td>Speeding</td>\n",
       "      <td>Speeding</td>\n",
       "      <td>False</td>\n",
       "      <td>NaN</td>\n",
       "      <td>Citation</td>\n",
       "      <td>False</td>\n",
       "      <td>0-15 Min</td>\n",
       "      <td>False</td>\n",
       "    </tr>\n",
       "    <tr>\n",
       "      <th>5</th>\n",
       "      <td>23-03-2005</td>\n",
       "      <td>09:45</td>\n",
       "      <td>NaN</td>\n",
       "      <td>M</td>\n",
       "      <td>1982.0</td>\n",
       "      <td>23.0</td>\n",
       "      <td>Black</td>\n",
       "      <td>Equipment/Inspection Violation</td>\n",
       "      <td>Equipment</td>\n",
       "      <td>False</td>\n",
       "      <td>NaN</td>\n",
       "      <td>Citation</td>\n",
       "      <td>False</td>\n",
       "      <td>0-15 Min</td>\n",
       "      <td>False</td>\n",
       "    </tr>\n",
       "    <tr>\n",
       "      <th>6</th>\n",
       "      <td>01-04-2005</td>\n",
       "      <td>17:30</td>\n",
       "      <td>NaN</td>\n",
       "      <td>M</td>\n",
       "      <td>1969.0</td>\n",
       "      <td>36.0</td>\n",
       "      <td>White</td>\n",
       "      <td>Speeding</td>\n",
       "      <td>Speeding</td>\n",
       "      <td>False</td>\n",
       "      <td>NaN</td>\n",
       "      <td>Citation</td>\n",
       "      <td>False</td>\n",
       "      <td>0-15 Min</td>\n",
       "      <td>False</td>\n",
       "    </tr>\n",
       "    <tr>\n",
       "      <th>7</th>\n",
       "      <td>06-06-2005</td>\n",
       "      <td>13:20</td>\n",
       "      <td>NaN</td>\n",
       "      <td>F</td>\n",
       "      <td>1986.0</td>\n",
       "      <td>19.0</td>\n",
       "      <td>White</td>\n",
       "      <td>Speeding</td>\n",
       "      <td>Speeding</td>\n",
       "      <td>False</td>\n",
       "      <td>NaN</td>\n",
       "      <td>Citation</td>\n",
       "      <td>False</td>\n",
       "      <td>0-15 Min</td>\n",
       "      <td>False</td>\n",
       "    </tr>\n",
       "    <tr>\n",
       "      <th>8</th>\n",
       "      <td>13-07-2005</td>\n",
       "      <td>10:15</td>\n",
       "      <td>NaN</td>\n",
       "      <td>M</td>\n",
       "      <td>1970.0</td>\n",
       "      <td>35.0</td>\n",
       "      <td>Black</td>\n",
       "      <td>Speeding</td>\n",
       "      <td>Speeding</td>\n",
       "      <td>False</td>\n",
       "      <td>NaN</td>\n",
       "      <td>Citation</td>\n",
       "      <td>False</td>\n",
       "      <td>0-15 Min</td>\n",
       "      <td>False</td>\n",
       "    </tr>\n",
       "    <tr>\n",
       "      <th>9</th>\n",
       "      <td>13-07-2005</td>\n",
       "      <td>15:45</td>\n",
       "      <td>NaN</td>\n",
       "      <td>M</td>\n",
       "      <td>1970.0</td>\n",
       "      <td>35.0</td>\n",
       "      <td>White</td>\n",
       "      <td>Speeding</td>\n",
       "      <td>Speeding</td>\n",
       "      <td>False</td>\n",
       "      <td>NaN</td>\n",
       "      <td>Citation</td>\n",
       "      <td>False</td>\n",
       "      <td>0-15 Min</td>\n",
       "      <td>False</td>\n",
       "    </tr>\n",
       "  </tbody>\n",
       "</table>\n",
       "</div>"
      ],
      "text/plain": [
       "    stop_date stop_time  county_name driver_gender  driver_age_raw  \\\n",
       "0  02-01-2005     01:55          NaN             M          1985.0   \n",
       "1  18-01-2005     08:15          NaN             M          1965.0   \n",
       "2  23-01-2005     23:15          NaN             M          1972.0   \n",
       "3  20-02-2005     17:15          NaN             M          1986.0   \n",
       "4  14-03-2005     10:00          NaN             F          1984.0   \n",
       "5  23-03-2005     09:45          NaN             M          1982.0   \n",
       "6  01-04-2005     17:30          NaN             M          1969.0   \n",
       "7  06-06-2005     13:20          NaN             F          1986.0   \n",
       "8  13-07-2005     10:15          NaN             M          1970.0   \n",
       "9  13-07-2005     15:45          NaN             M          1970.0   \n",
       "\n",
       "   driver_age driver_race                   violation_raw  violation  \\\n",
       "0        20.0       White                        Speeding   Speeding   \n",
       "1        40.0       White                        Speeding   Speeding   \n",
       "2        33.0       White                        Speeding   Speeding   \n",
       "3        19.0       White                Call for Service      Other   \n",
       "4        21.0       White                        Speeding   Speeding   \n",
       "5        23.0       Black  Equipment/Inspection Violation  Equipment   \n",
       "6        36.0       White                        Speeding   Speeding   \n",
       "7        19.0       White                        Speeding   Speeding   \n",
       "8        35.0       Black                        Speeding   Speeding   \n",
       "9        35.0       White                        Speeding   Speeding   \n",
       "\n",
       "   search_conducted search_type   stop_outcome is_arrested stop_duration  \\\n",
       "0             False         NaN       Citation       False      0-15 Min   \n",
       "1             False         NaN       Citation       False      0-15 Min   \n",
       "2             False         NaN       Citation       False      0-15 Min   \n",
       "3             False         NaN  Arrest Driver        True     16-30 Min   \n",
       "4             False         NaN       Citation       False      0-15 Min   \n",
       "5             False         NaN       Citation       False      0-15 Min   \n",
       "6             False         NaN       Citation       False      0-15 Min   \n",
       "7             False         NaN       Citation       False      0-15 Min   \n",
       "8             False         NaN       Citation       False      0-15 Min   \n",
       "9             False         NaN       Citation       False      0-15 Min   \n",
       "\n",
       "   drugs_related_stop  \n",
       "0               False  \n",
       "1               False  \n",
       "2               False  \n",
       "3               False  \n",
       "4               False  \n",
       "5               False  \n",
       "6               False  \n",
       "7               False  \n",
       "8               False  \n",
       "9               False  "
      ]
     },
     "execution_count": 3,
     "metadata": {},
     "output_type": "execute_result"
    }
   ],
   "source": [
    "df.head(10)"
   ]
  },
  {
   "cell_type": "code",
   "execution_count": 4,
   "id": "151bd9c7",
   "metadata": {},
   "outputs": [
    {
     "data": {
      "text/html": [
       "<div>\n",
       "<style scoped>\n",
       "    .dataframe tbody tr th:only-of-type {\n",
       "        vertical-align: middle;\n",
       "    }\n",
       "\n",
       "    .dataframe tbody tr th {\n",
       "        vertical-align: top;\n",
       "    }\n",
       "\n",
       "    .dataframe thead th {\n",
       "        text-align: right;\n",
       "    }\n",
       "</style>\n",
       "<table border=\"1\" class=\"dataframe\">\n",
       "  <thead>\n",
       "    <tr style=\"text-align: right;\">\n",
       "      <th></th>\n",
       "      <th>county_name</th>\n",
       "      <th>driver_age_raw</th>\n",
       "      <th>driver_age</th>\n",
       "    </tr>\n",
       "  </thead>\n",
       "  <tbody>\n",
       "    <tr>\n",
       "      <th>count</th>\n",
       "      <td>0.0</td>\n",
       "      <td>86414.000000</td>\n",
       "      <td>86120.000000</td>\n",
       "    </tr>\n",
       "    <tr>\n",
       "      <th>mean</th>\n",
       "      <td>NaN</td>\n",
       "      <td>1970.491228</td>\n",
       "      <td>34.011333</td>\n",
       "    </tr>\n",
       "    <tr>\n",
       "      <th>std</th>\n",
       "      <td>NaN</td>\n",
       "      <td>110.914909</td>\n",
       "      <td>12.738564</td>\n",
       "    </tr>\n",
       "    <tr>\n",
       "      <th>min</th>\n",
       "      <td>NaN</td>\n",
       "      <td>0.000000</td>\n",
       "      <td>15.000000</td>\n",
       "    </tr>\n",
       "    <tr>\n",
       "      <th>25%</th>\n",
       "      <td>NaN</td>\n",
       "      <td>1967.000000</td>\n",
       "      <td>23.000000</td>\n",
       "    </tr>\n",
       "    <tr>\n",
       "      <th>50%</th>\n",
       "      <td>NaN</td>\n",
       "      <td>1980.000000</td>\n",
       "      <td>31.000000</td>\n",
       "    </tr>\n",
       "    <tr>\n",
       "      <th>75%</th>\n",
       "      <td>NaN</td>\n",
       "      <td>1987.000000</td>\n",
       "      <td>43.000000</td>\n",
       "    </tr>\n",
       "    <tr>\n",
       "      <th>max</th>\n",
       "      <td>NaN</td>\n",
       "      <td>8801.000000</td>\n",
       "      <td>99.000000</td>\n",
       "    </tr>\n",
       "  </tbody>\n",
       "</table>\n",
       "</div>"
      ],
      "text/plain": [
       "       county_name  driver_age_raw    driver_age\n",
       "count          0.0    86414.000000  86120.000000\n",
       "mean           NaN     1970.491228     34.011333\n",
       "std            NaN      110.914909     12.738564\n",
       "min            NaN        0.000000     15.000000\n",
       "25%            NaN     1967.000000     23.000000\n",
       "50%            NaN     1980.000000     31.000000\n",
       "75%            NaN     1987.000000     43.000000\n",
       "max            NaN     8801.000000     99.000000"
      ]
     },
     "execution_count": 4,
     "metadata": {},
     "output_type": "execute_result"
    }
   ],
   "source": [
    "df.describe()"
   ]
  },
  {
   "cell_type": "code",
   "execution_count": 5,
   "id": "1ac35b21",
   "metadata": {},
   "outputs": [],
   "source": [
    "## Dropping Columns that are not required\n",
    "new_df = df.drop(['county_name','driver_age_raw','violation_raw'], axis = 'columns')"
   ]
  },
  {
   "cell_type": "code",
   "execution_count": 6,
   "id": "24f47a40",
   "metadata": {},
   "outputs": [
    {
     "data": {
      "text/html": [
       "<div>\n",
       "<style scoped>\n",
       "    .dataframe tbody tr th:only-of-type {\n",
       "        vertical-align: middle;\n",
       "    }\n",
       "\n",
       "    .dataframe tbody tr th {\n",
       "        vertical-align: top;\n",
       "    }\n",
       "\n",
       "    .dataframe thead th {\n",
       "        text-align: right;\n",
       "    }\n",
       "</style>\n",
       "<table border=\"1\" class=\"dataframe\">\n",
       "  <thead>\n",
       "    <tr style=\"text-align: right;\">\n",
       "      <th></th>\n",
       "      <th>stop_date</th>\n",
       "      <th>stop_time</th>\n",
       "      <th>driver_gender</th>\n",
       "      <th>driver_age</th>\n",
       "      <th>driver_race</th>\n",
       "      <th>violation</th>\n",
       "      <th>search_conducted</th>\n",
       "      <th>search_type</th>\n",
       "      <th>stop_outcome</th>\n",
       "      <th>is_arrested</th>\n",
       "      <th>stop_duration</th>\n",
       "      <th>drugs_related_stop</th>\n",
       "    </tr>\n",
       "  </thead>\n",
       "  <tbody>\n",
       "    <tr>\n",
       "      <th>0</th>\n",
       "      <td>02-01-2005</td>\n",
       "      <td>01:55</td>\n",
       "      <td>M</td>\n",
       "      <td>20.0</td>\n",
       "      <td>White</td>\n",
       "      <td>Speeding</td>\n",
       "      <td>False</td>\n",
       "      <td>NaN</td>\n",
       "      <td>Citation</td>\n",
       "      <td>False</td>\n",
       "      <td>0-15 Min</td>\n",
       "      <td>False</td>\n",
       "    </tr>\n",
       "    <tr>\n",
       "      <th>1</th>\n",
       "      <td>18-01-2005</td>\n",
       "      <td>08:15</td>\n",
       "      <td>M</td>\n",
       "      <td>40.0</td>\n",
       "      <td>White</td>\n",
       "      <td>Speeding</td>\n",
       "      <td>False</td>\n",
       "      <td>NaN</td>\n",
       "      <td>Citation</td>\n",
       "      <td>False</td>\n",
       "      <td>0-15 Min</td>\n",
       "      <td>False</td>\n",
       "    </tr>\n",
       "    <tr>\n",
       "      <th>2</th>\n",
       "      <td>23-01-2005</td>\n",
       "      <td>23:15</td>\n",
       "      <td>M</td>\n",
       "      <td>33.0</td>\n",
       "      <td>White</td>\n",
       "      <td>Speeding</td>\n",
       "      <td>False</td>\n",
       "      <td>NaN</td>\n",
       "      <td>Citation</td>\n",
       "      <td>False</td>\n",
       "      <td>0-15 Min</td>\n",
       "      <td>False</td>\n",
       "    </tr>\n",
       "    <tr>\n",
       "      <th>3</th>\n",
       "      <td>20-02-2005</td>\n",
       "      <td>17:15</td>\n",
       "      <td>M</td>\n",
       "      <td>19.0</td>\n",
       "      <td>White</td>\n",
       "      <td>Other</td>\n",
       "      <td>False</td>\n",
       "      <td>NaN</td>\n",
       "      <td>Arrest Driver</td>\n",
       "      <td>True</td>\n",
       "      <td>16-30 Min</td>\n",
       "      <td>False</td>\n",
       "    </tr>\n",
       "    <tr>\n",
       "      <th>4</th>\n",
       "      <td>14-03-2005</td>\n",
       "      <td>10:00</td>\n",
       "      <td>F</td>\n",
       "      <td>21.0</td>\n",
       "      <td>White</td>\n",
       "      <td>Speeding</td>\n",
       "      <td>False</td>\n",
       "      <td>NaN</td>\n",
       "      <td>Citation</td>\n",
       "      <td>False</td>\n",
       "      <td>0-15 Min</td>\n",
       "      <td>False</td>\n",
       "    </tr>\n",
       "    <tr>\n",
       "      <th>5</th>\n",
       "      <td>23-03-2005</td>\n",
       "      <td>09:45</td>\n",
       "      <td>M</td>\n",
       "      <td>23.0</td>\n",
       "      <td>Black</td>\n",
       "      <td>Equipment</td>\n",
       "      <td>False</td>\n",
       "      <td>NaN</td>\n",
       "      <td>Citation</td>\n",
       "      <td>False</td>\n",
       "      <td>0-15 Min</td>\n",
       "      <td>False</td>\n",
       "    </tr>\n",
       "    <tr>\n",
       "      <th>6</th>\n",
       "      <td>01-04-2005</td>\n",
       "      <td>17:30</td>\n",
       "      <td>M</td>\n",
       "      <td>36.0</td>\n",
       "      <td>White</td>\n",
       "      <td>Speeding</td>\n",
       "      <td>False</td>\n",
       "      <td>NaN</td>\n",
       "      <td>Citation</td>\n",
       "      <td>False</td>\n",
       "      <td>0-15 Min</td>\n",
       "      <td>False</td>\n",
       "    </tr>\n",
       "    <tr>\n",
       "      <th>7</th>\n",
       "      <td>06-06-2005</td>\n",
       "      <td>13:20</td>\n",
       "      <td>F</td>\n",
       "      <td>19.0</td>\n",
       "      <td>White</td>\n",
       "      <td>Speeding</td>\n",
       "      <td>False</td>\n",
       "      <td>NaN</td>\n",
       "      <td>Citation</td>\n",
       "      <td>False</td>\n",
       "      <td>0-15 Min</td>\n",
       "      <td>False</td>\n",
       "    </tr>\n",
       "    <tr>\n",
       "      <th>8</th>\n",
       "      <td>13-07-2005</td>\n",
       "      <td>10:15</td>\n",
       "      <td>M</td>\n",
       "      <td>35.0</td>\n",
       "      <td>Black</td>\n",
       "      <td>Speeding</td>\n",
       "      <td>False</td>\n",
       "      <td>NaN</td>\n",
       "      <td>Citation</td>\n",
       "      <td>False</td>\n",
       "      <td>0-15 Min</td>\n",
       "      <td>False</td>\n",
       "    </tr>\n",
       "    <tr>\n",
       "      <th>9</th>\n",
       "      <td>13-07-2005</td>\n",
       "      <td>15:45</td>\n",
       "      <td>M</td>\n",
       "      <td>35.0</td>\n",
       "      <td>White</td>\n",
       "      <td>Speeding</td>\n",
       "      <td>False</td>\n",
       "      <td>NaN</td>\n",
       "      <td>Citation</td>\n",
       "      <td>False</td>\n",
       "      <td>0-15 Min</td>\n",
       "      <td>False</td>\n",
       "    </tr>\n",
       "  </tbody>\n",
       "</table>\n",
       "</div>"
      ],
      "text/plain": [
       "    stop_date stop_time driver_gender  driver_age driver_race  violation  \\\n",
       "0  02-01-2005     01:55             M        20.0       White   Speeding   \n",
       "1  18-01-2005     08:15             M        40.0       White   Speeding   \n",
       "2  23-01-2005     23:15             M        33.0       White   Speeding   \n",
       "3  20-02-2005     17:15             M        19.0       White      Other   \n",
       "4  14-03-2005     10:00             F        21.0       White   Speeding   \n",
       "5  23-03-2005     09:45             M        23.0       Black  Equipment   \n",
       "6  01-04-2005     17:30             M        36.0       White   Speeding   \n",
       "7  06-06-2005     13:20             F        19.0       White   Speeding   \n",
       "8  13-07-2005     10:15             M        35.0       Black   Speeding   \n",
       "9  13-07-2005     15:45             M        35.0       White   Speeding   \n",
       "\n",
       "   search_conducted search_type   stop_outcome is_arrested stop_duration  \\\n",
       "0             False         NaN       Citation       False      0-15 Min   \n",
       "1             False         NaN       Citation       False      0-15 Min   \n",
       "2             False         NaN       Citation       False      0-15 Min   \n",
       "3             False         NaN  Arrest Driver        True     16-30 Min   \n",
       "4             False         NaN       Citation       False      0-15 Min   \n",
       "5             False         NaN       Citation       False      0-15 Min   \n",
       "6             False         NaN       Citation       False      0-15 Min   \n",
       "7             False         NaN       Citation       False      0-15 Min   \n",
       "8             False         NaN       Citation       False      0-15 Min   \n",
       "9             False         NaN       Citation       False      0-15 Min   \n",
       "\n",
       "   drugs_related_stop  \n",
       "0               False  \n",
       "1               False  \n",
       "2               False  \n",
       "3               False  \n",
       "4               False  \n",
       "5               False  \n",
       "6               False  \n",
       "7               False  \n",
       "8               False  \n",
       "9               False  "
      ]
     },
     "execution_count": 6,
     "metadata": {},
     "output_type": "execute_result"
    }
   ],
   "source": [
    "new_df.head(10)"
   ]
  },
  {
   "cell_type": "code",
   "execution_count": 7,
   "id": "e79cae2d",
   "metadata": {},
   "outputs": [],
   "source": [
    "## Dropping rows that contains less than 6 values\n",
    "new_df.dropna(axis = 0, how = 'any', thresh = 6,inplace = True)"
   ]
  },
  {
   "cell_type": "code",
   "execution_count": 8,
   "id": "e4179f0a",
   "metadata": {},
   "outputs": [],
   "source": [
    "## Checking for the empty values in the 'driver_age' columns\n",
    "index = new_df[new_df['driver_age'].isnull()].index"
   ]
  },
  {
   "cell_type": "code",
   "execution_count": 9,
   "id": "753168c4",
   "metadata": {},
   "outputs": [],
   "source": [
    "new_df.drop(index,inplace = True)"
   ]
  },
  {
   "cell_type": "code",
   "execution_count": 10,
   "id": "2ced2a02",
   "metadata": {},
   "outputs": [],
   "source": [
    "index = new_df[new_df['driver_gender'].isnull()].index"
   ]
  },
  {
   "cell_type": "code",
   "execution_count": 11,
   "id": "baf08d56",
   "metadata": {},
   "outputs": [],
   "source": [
    "new_df.drop(index,inplace = True)"
   ]
  },
  {
   "cell_type": "code",
   "execution_count": 12,
   "id": "d9218bda",
   "metadata": {},
   "outputs": [],
   "source": [
    "## Saving cleaned DataFrame into new CSV file\n",
    "new_df.to_csv('cleaned.csv', index = False)"
   ]
  },
  {
   "cell_type": "code",
   "execution_count": 13,
   "id": "6a2e37f3",
   "metadata": {},
   "outputs": [],
   "source": [
    "cln_df = pd.read_csv('cleaned.csv')"
   ]
  },
  {
   "cell_type": "code",
   "execution_count": 14,
   "id": "5af795db",
   "metadata": {
    "scrolled": true
   },
   "outputs": [
    {
     "data": {
      "text/html": [
       "<div>\n",
       "<style scoped>\n",
       "    .dataframe tbody tr th:only-of-type {\n",
       "        vertical-align: middle;\n",
       "    }\n",
       "\n",
       "    .dataframe tbody tr th {\n",
       "        vertical-align: top;\n",
       "    }\n",
       "\n",
       "    .dataframe thead th {\n",
       "        text-align: right;\n",
       "    }\n",
       "</style>\n",
       "<table border=\"1\" class=\"dataframe\">\n",
       "  <thead>\n",
       "    <tr style=\"text-align: right;\">\n",
       "      <th></th>\n",
       "      <th>stop_date</th>\n",
       "      <th>stop_time</th>\n",
       "      <th>driver_gender</th>\n",
       "      <th>driver_age</th>\n",
       "      <th>driver_race</th>\n",
       "      <th>violation</th>\n",
       "      <th>search_conducted</th>\n",
       "      <th>search_type</th>\n",
       "      <th>stop_outcome</th>\n",
       "      <th>is_arrested</th>\n",
       "      <th>stop_duration</th>\n",
       "      <th>drugs_related_stop</th>\n",
       "    </tr>\n",
       "  </thead>\n",
       "  <tbody>\n",
       "    <tr>\n",
       "      <th>0</th>\n",
       "      <td>02-01-2005</td>\n",
       "      <td>01:55</td>\n",
       "      <td>M</td>\n",
       "      <td>20.0</td>\n",
       "      <td>White</td>\n",
       "      <td>Speeding</td>\n",
       "      <td>False</td>\n",
       "      <td>NaN</td>\n",
       "      <td>Citation</td>\n",
       "      <td>False</td>\n",
       "      <td>0-15 Min</td>\n",
       "      <td>False</td>\n",
       "    </tr>\n",
       "    <tr>\n",
       "      <th>1</th>\n",
       "      <td>18-01-2005</td>\n",
       "      <td>08:15</td>\n",
       "      <td>M</td>\n",
       "      <td>40.0</td>\n",
       "      <td>White</td>\n",
       "      <td>Speeding</td>\n",
       "      <td>False</td>\n",
       "      <td>NaN</td>\n",
       "      <td>Citation</td>\n",
       "      <td>False</td>\n",
       "      <td>0-15 Min</td>\n",
       "      <td>False</td>\n",
       "    </tr>\n",
       "    <tr>\n",
       "      <th>2</th>\n",
       "      <td>23-01-2005</td>\n",
       "      <td>23:15</td>\n",
       "      <td>M</td>\n",
       "      <td>33.0</td>\n",
       "      <td>White</td>\n",
       "      <td>Speeding</td>\n",
       "      <td>False</td>\n",
       "      <td>NaN</td>\n",
       "      <td>Citation</td>\n",
       "      <td>False</td>\n",
       "      <td>0-15 Min</td>\n",
       "      <td>False</td>\n",
       "    </tr>\n",
       "    <tr>\n",
       "      <th>3</th>\n",
       "      <td>20-02-2005</td>\n",
       "      <td>17:15</td>\n",
       "      <td>M</td>\n",
       "      <td>19.0</td>\n",
       "      <td>White</td>\n",
       "      <td>Other</td>\n",
       "      <td>False</td>\n",
       "      <td>NaN</td>\n",
       "      <td>Arrest Driver</td>\n",
       "      <td>True</td>\n",
       "      <td>16-30 Min</td>\n",
       "      <td>False</td>\n",
       "    </tr>\n",
       "    <tr>\n",
       "      <th>4</th>\n",
       "      <td>14-03-2005</td>\n",
       "      <td>10:00</td>\n",
       "      <td>F</td>\n",
       "      <td>21.0</td>\n",
       "      <td>White</td>\n",
       "      <td>Speeding</td>\n",
       "      <td>False</td>\n",
       "      <td>NaN</td>\n",
       "      <td>Citation</td>\n",
       "      <td>False</td>\n",
       "      <td>0-15 Min</td>\n",
       "      <td>False</td>\n",
       "    </tr>\n",
       "  </tbody>\n",
       "</table>\n",
       "</div>"
      ],
      "text/plain": [
       "    stop_date stop_time driver_gender  driver_age driver_race violation  \\\n",
       "0  02-01-2005     01:55             M        20.0       White  Speeding   \n",
       "1  18-01-2005     08:15             M        40.0       White  Speeding   \n",
       "2  23-01-2005     23:15             M        33.0       White  Speeding   \n",
       "3  20-02-2005     17:15             M        19.0       White     Other   \n",
       "4  14-03-2005     10:00             F        21.0       White  Speeding   \n",
       "\n",
       "   search_conducted search_type   stop_outcome  is_arrested stop_duration  \\\n",
       "0             False         NaN       Citation        False      0-15 Min   \n",
       "1             False         NaN       Citation        False      0-15 Min   \n",
       "2             False         NaN       Citation        False      0-15 Min   \n",
       "3             False         NaN  Arrest Driver         True     16-30 Min   \n",
       "4             False         NaN       Citation        False      0-15 Min   \n",
       "\n",
       "   drugs_related_stop  \n",
       "0               False  \n",
       "1               False  \n",
       "2               False  \n",
       "3               False  \n",
       "4               False  "
      ]
     },
     "execution_count": 14,
     "metadata": {},
     "output_type": "execute_result"
    }
   ],
   "source": [
    "cln_df.head()"
   ]
  },
  {
   "cell_type": "code",
   "execution_count": 15,
   "id": "c6551869",
   "metadata": {},
   "outputs": [],
   "source": [
    "cln_df['stop_date'] = pd.to_datetime(cln_df[('stop_date')])"
   ]
  },
  {
   "cell_type": "code",
   "execution_count": 16,
   "id": "fdeed4bf",
   "metadata": {},
   "outputs": [],
   "source": [
    "## Sorting DataFrame with respect to stop_date\n",
    "cln_df = cln_df.sort_values(by = 'stop_date').reset_index(drop = True)"
   ]
  },
  {
   "cell_type": "code",
   "execution_count": 17,
   "id": "639ebece",
   "metadata": {},
   "outputs": [
    {
     "name": "stdout",
     "output_type": "stream",
     "text": [
      "\u001b[1m Average age of drivers that were stopped is 34.01186812676367 .\u001b[0m\n"
     ]
    }
   ],
   "source": [
    "print('\\033[1m','Average age of drivers that were stopped is',cln_df['driver_age'].mean(),'.''\\033[0m')"
   ]
  },
  {
   "cell_type": "code",
   "execution_count": 18,
   "id": "fd885b97",
   "metadata": {},
   "outputs": [
    {
     "name": "stdout",
     "output_type": "stream",
     "text": [
      "\u001b[1m Minimum age of the drivers that were stopped is 15.0 . \u001b[0m\n"
     ]
    }
   ],
   "source": [
    "print('\\033[1m','Minimum age of the drivers that were stopped is',cln_df['driver_age'].min(),'.','\\033[0m')"
   ]
  },
  {
   "cell_type": "code",
   "execution_count": 19,
   "id": "e8dea1d5",
   "metadata": {},
   "outputs": [
    {
     "name": "stdout",
     "output_type": "stream",
     "text": [
      "\u001b[1m Maximum age of the drivers that were stopped is 99.0 . \u001b[0m\n"
     ]
    }
   ],
   "source": [
    "print('\\033[1m','Maximum age of the drivers that were stopped is',cln_df['driver_age'].max(),'.','\\033[0m')"
   ]
  },
  {
   "cell_type": "code",
   "execution_count": 20,
   "id": "04c7b7c3",
   "metadata": {},
   "outputs": [],
   "source": [
    "male = (cln_df['driver_gender'].value_counts()[0]/cln_df['driver_gender'].count())*100\n",
    "female = (cln_df['driver_gender'].value_counts()[1]/cln_df['driver_gender'].count())*100"
   ]
  },
  {
   "cell_type": "code",
   "execution_count": 21,
   "id": "8ad8e588",
   "metadata": {},
   "outputs": [
    {
     "name": "stdout",
     "output_type": "stream",
     "text": [
      "\u001b[1m Total of 62649 males were stopped during traffic stops which is  72.75 % of total stops. \u001b[0m\n",
      "\u001b[1m Total of 23464 females were stopped during traffic stops which is  27.25 % of total stops. \u001b[0m\n"
     ]
    }
   ],
   "source": [
    "print('\\033[1m','Total of', cln_df['driver_gender'].value_counts()[0],'males were stopped during traffic stops which is ',round(male,2),'% of total stops.','\\033[0m')\n",
    "print('\\033[1m','Total of', cln_df['driver_gender'].value_counts()[1],'females were stopped during traffic stops which is ',round(female,2),'% of total stops.','\\033[0m')"
   ]
  },
  {
   "cell_type": "code",
   "execution_count": 22,
   "id": "142d3346",
   "metadata": {},
   "outputs": [],
   "source": [
    "cln_df['month_year'] = cln_df['stop_date'].apply(lambda x: x.strftime('%Y-%m'))"
   ]
  },
  {
   "cell_type": "code",
   "execution_count": 23,
   "id": "2a218d5d",
   "metadata": {},
   "outputs": [],
   "source": [
    "df_trend = pd.DataFrame(cln_df.groupby('month_year').count().reset_index())"
   ]
  },
  {
   "cell_type": "code",
   "execution_count": 24,
   "id": "8b807c20",
   "metadata": {},
   "outputs": [
    {
     "name": "stdout",
     "output_type": "stream",
     "text": [
      "\u001b[1m Below is a graph that shows month-wise distribution of traffic stops along the years from 2005-01 to 2015-12 . \u001b[0m\n"
     ]
    },
    {
     "data": {
      "image/png": "[encoded data removed]",
      "text/plain": [
       "<Figure size 1440x432 with 1 Axes>"
      ]
     },
     "metadata": {
      "needs_background": "light"
     },
     "output_type": "display_data"
    }
   ],
   "source": [
    "plt.figure(figsize=(20,6))\n",
    "plt.plot(df_trend['month_year'],df_trend['driver_age'], color='#b80045')\n",
    "plt.xticks(rotation='vertical', size=7)\n",
    "print('\\033[1m','Below is a graph that shows month-wise distribution of traffic stops along the years from',cln_df['month_year'].min(),\"to\",cln_df['month_year'].max(),'.','\\033[0m')\n",
    "plt.show()"
   ]
  },
  {
   "cell_type": "code",
   "execution_count": 25,
   "id": "62883580",
   "metadata": {},
   "outputs": [
    {
     "name": "stdout",
     "output_type": "stream",
     "text": [
      "\u001b[1m Below is the bar graph which shows the race-wise distribution of traffic stops that happened from 2005-01 to 2015-12 . \u001b[0m\n"
     ]
    },
    {
     "data": {
      "image/png": "[encoded data removed]",
      "text/plain": [
       "<Figure size 1440x720 with 1 Axes>"
      ]
     },
     "metadata": {
      "needs_background": "light"
     },
     "output_type": "display_data"
    }
   ],
   "source": [
    "# Setting figure size\n",
    "plt.figure(figsize=(20,10))\n",
    "\n",
    "# Plotting shipmode\n",
    "sns.countplot(cln_df['driver_race'])\n",
    "print('\\033[1m','Below is the bar graph which shows the race-wise distribution of traffic stops that happened from',cln_df['month_year'].min(),\"to\",cln_df['month_year'].max(),'.','\\033[0m')\n",
    "plt.show()"
   ]
  },
  {
   "cell_type": "code",
   "execution_count": 81,
   "id": "dfafb37b",
   "metadata": {},
   "outputs": [
    {
     "data": {
      "image/png": "[encoded data removed]",
      "text/plain": [
       "<Figure size 432x288 with 1 Axes>"
      ]
     },
     "metadata": {},
     "output_type": "display_data"
    }
   ],
   "source": [
    "pie_df = pd.DataFrame(cln_df['driver_race'].value_counts())\n",
    "pie_lst = list(pie_df.iloc[:,0])\n",
    "index = pie_df.index\n",
    "plt.pie(pie_lst,labels = index, radius = 1.5,autopct='%0.2f%%')\n",
    "plt.show()"
   ]
  },
  {
   "cell_type": "code",
   "execution_count": 26,
   "id": "8f742efc",
   "metadata": {},
   "outputs": [
    {
     "name": "stdout",
     "output_type": "stream",
     "text": [
      "\u001b[1m Below is the bar graph which shows for what violation does the traffic stop happend. \u001b[0m\n"
     ]
    },
    {
     "data": {
      "image/png": "[encoded data removed]",
      "text/plain": [
       "<Figure size 1440x720 with 1 Axes>"
      ]
     },
     "metadata": {
      "needs_background": "light"
     },
     "output_type": "display_data"
    }
   ],
   "source": [
    "# Setting figure size\n",
    "plt.figure(figsize=(20,10))\n",
    "\n",
    "# Plotting shipmode\n",
    "sns.countplot(cln_df['violation'])\n",
    "print('\\033[1m','Below is the bar graph which shows for what violation does the traffic stop happend.','\\033[0m')\n",
    "plt.show()"
   ]
  },
  {
   "cell_type": "code",
   "execution_count": 82,
   "id": "712be726",
   "metadata": {},
   "outputs": [
    {
     "data": {
      "image/png": "[encoded data removed]",
      "text/plain": [
       "<Figure size 432x288 with 1 Axes>"
      ]
     },
     "metadata": {},
     "output_type": "display_data"
    }
   ],
   "source": [
    "pie_df = pd.DataFrame(cln_df['violation'].value_counts())\n",
    "pie_lst = list(pie_df.iloc[:,0])\n",
    "index = pie_df.index\n",
    "plt.pie(pie_lst,labels = index, radius = 1.5,autopct='%0.2f%%')\n",
    "plt.show()"
   ]
  },
  {
   "cell_type": "code",
   "execution_count": 27,
   "id": "dcff9075",
   "metadata": {},
   "outputs": [
    {
     "name": "stdout",
     "output_type": "stream",
     "text": [
      "\u001b[1m In total 3193 cases search was conducted which is 3.71 % of total stops. \u001b[0m\n"
     ]
    }
   ],
   "source": [
    "print('\\033[1m','In total',len(cln_df[cln_df['search_conducted']]),'cases search was conducted which is', round(((len(cln_df[cln_df['search_conducted']])/len(cln_df))*100),2),\"% of total stops.\",'\\033[0m')"
   ]
  },
  {
   "cell_type": "code",
   "execution_count": 28,
   "id": "ae21e2fb",
   "metadata": {},
   "outputs": [
    {
     "name": "stdout",
     "output_type": "stream",
     "text": [
      "\u001b[1m Below is the bar graph which shows outcome of the traffic stop happend. \u001b[0m\n"
     ]
    },
    {
     "data": {
      "image/png": "[encoded data removed]",
      "text/plain": [
       "<Figure size 1440x720 with 1 Axes>"
      ]
     },
     "metadata": {
      "needs_background": "light"
     },
     "output_type": "display_data"
    }
   ],
   "source": [
    "# Setting figure size\n",
    "plt.figure(figsize=(20,10))\n",
    "\n",
    "# Plotting shipmode\n",
    "sns.countplot(cln_df['stop_outcome'])\n",
    "print('\\033[1m','Below is the bar graph which shows outcome of the traffic stop happend.','\\033[0m')\n",
    "plt.show()"
   ]
  },
  {
   "cell_type": "code",
   "execution_count": 83,
   "id": "7af86f29",
   "metadata": {},
   "outputs": [
    {
     "data": {
      "image/png": "[encoded data removed]",
      "text/plain": [
       "<Figure size 432x288 with 1 Axes>"
      ]
     },
     "metadata": {},
     "output_type": "display_data"
    }
   ],
   "source": [
    "pie_df = pd.DataFrame(cln_df['stop_outcome'].value_counts())\n",
    "pie_lst = list(pie_df.iloc[:,0])\n",
    "index = pie_df.index\n",
    "plt.pie(pie_lst,labels = index, radius = 1.5,autopct='%0.2f%%')\n",
    "plt.show()"
   ]
  },
  {
   "cell_type": "code",
   "execution_count": 29,
   "id": "42451cf5",
   "metadata": {},
   "outputs": [
    {
     "name": "stdout",
     "output_type": "stream",
     "text": [
      "\u001b[1m In total 2925 cases arrest was conducted. \u001b[0m\n"
     ]
    }
   ],
   "source": [
    "print('\\033[1m','In total',len(cln_df[cln_df['is_arrested']]),'cases arrest was conducted.','\\033[0m')"
   ]
  },
  {
   "cell_type": "code",
   "execution_count": 30,
   "id": "76b8a1ab",
   "metadata": {},
   "outputs": [
    {
     "name": "stdout",
     "output_type": "stream",
     "text": [
      "\u001b[1m Total of 814 stops were drug related stops. \u001b[0m\n"
     ]
    }
   ],
   "source": [
    "print('\\033[1m','Total of',len(cln_df[cln_df['drugs_related_stop']]),'stops were drug related stops.','\\033[0m')"
   ]
  },
  {
   "cell_type": "code",
   "execution_count": 31,
   "id": "db1f7276",
   "metadata": {},
   "outputs": [],
   "source": [
    "index = cln_df[cln_df['stop_duration'] == '1'].index"
   ]
  },
  {
   "cell_type": "code",
   "execution_count": 32,
   "id": "c87205ba",
   "metadata": {},
   "outputs": [],
   "source": [
    "cln_df.at[index[0],'stop_duration'] = '1 Hr'"
   ]
  },
  {
   "cell_type": "code",
   "execution_count": 33,
   "id": "c845d62c",
   "metadata": {},
   "outputs": [],
   "source": [
    "index = cln_df[cln_df['stop_duration'] == '2'].index"
   ]
  },
  {
   "cell_type": "code",
   "execution_count": 34,
   "id": "ed45f10a",
   "metadata": {},
   "outputs": [],
   "source": [
    "cln_df.at[index[0],'stop_duration'] = '2 Hr'"
   ]
  },
  {
   "cell_type": "code",
   "execution_count": 35,
   "id": "02810574",
   "metadata": {
    "scrolled": false
   },
   "outputs": [
    {
     "name": "stdout",
     "output_type": "stream",
     "text": [
      "\u001b[1m Below is the bar graph which shows the duration of the traffic stop happend. \u001b[0m\n"
     ]
    },
    {
     "data": {
      "image/png": "[encoded data removed]",
      "text/plain": [
       "<Figure size 1440x720 with 1 Axes>"
      ]
     },
     "metadata": {
      "needs_background": "light"
     },
     "output_type": "display_data"
    }
   ],
   "source": [
    "# Setting figure size\n",
    "plt.figure(figsize=(20,10))\n",
    "\n",
    "# Plotting shipmode\n",
    "sns.countplot(cln_df['stop_duration'])\n",
    "print('\\033[1m','Below is the bar graph which shows the duration of the traffic stop happend.','\\033[0m')\n",
    "plt.show()"
   ]
  },
  {
   "cell_type": "code",
   "execution_count": 84,
   "id": "033ac409",
   "metadata": {},
   "outputs": [
    {
     "data": {
      "image/png": "[encoded data removed]",
      "text/plain": [
       "<Figure size 432x288 with 1 Axes>"
      ]
     },
     "metadata": {},
     "output_type": "display_data"
    }
   ],
   "source": [
    "pie_df = pd.DataFrame(cln_df['stop_duration'].value_counts())\n",
    "pie_lst = list(pie_df.iloc[:,0])\n",
    "index = pie_df.index\n",
    "plt.pie(pie_lst,labels = index, radius = 1.5,autopct='%0.2f%%')\n",
    "plt.show()"
   ]
  },
  {
   "cell_type": "code",
   "execution_count": null,
   "id": "8d7da458",
   "metadata": {},
   "outputs": [],
   "source": []
  }
 ],
 "metadata": {
  "kernelspec": {
   "display_name": "Python 3 (ipykernel)",
   "language": "python",
   "name": "python3"
  },
  "language_info": {
   "codemirror_mode": {
    "name": "ipython",
    "version": 3
   },
   "file_extension": ".py",
   "mimetype": "text/x-python",
   "name": "python",
   "nbconvert_exporter": "python",
   "pygments_lexer": "ipython3",
   "version": "3.9.7"
  }
 },
 "nbformat": 4,
 "nbformat_minor": 5
}
