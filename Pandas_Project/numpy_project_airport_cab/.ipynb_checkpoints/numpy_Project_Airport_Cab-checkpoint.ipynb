{
 "cells": [
  {
   "cell_type": "markdown",
   "id": "0568d3f4",
   "metadata": {},
   "source": [
    "# Airport Cab Data"
   ]
  },
  {
   "cell_type": "markdown",
   "id": "42d2fc40",
   "metadata": {},
   "source": [
    "### Questions that we need to answer are: \\n\n",
    "1. Mean speed of all the rides.\n",
    "2. Number of rides taken in february.\n",
    "3. Number of rides where the tip was more than 50.\n",
    "4. Number of rides where thr drop was JFK airport."
   ]
  },
  {
   "cell_type": "code",
   "execution_count": 1,
   "id": "0dff2b88",
   "metadata": {},
   "outputs": [],
   "source": [
    "# Import Numpy Library\n",
    "import numpy as np"
   ]
  },
  {
   "cell_type": "code",
   "execution_count": 2,
   "id": "6aa667cf",
   "metadata": {},
   "outputs": [],
   "source": [
    "# Download csv file from the local host\n",
    "taxi = np.genfromtxt('nyc_taxis.csv',delimiter = ',',skip_header = True)"
   ]
  },
  {
   "cell_type": "code",
   "execution_count": 3,
   "id": "bb50e8e0",
   "metadata": {},
   "outputs": [],
   "source": [
    "# Calculate speed by taking distance travelled i.e. is 8th column in the csv file and duration of the cab ride i.e. 9th\n",
    "# column of the csv file\n",
    "speed = taxi[:,7]/(taxi[:,8]/3600)"
   ]
  },
  {
   "cell_type": "code",
   "execution_count": 4,
   "id": "a6fe34f5",
   "metadata": {},
   "outputs": [
    {
     "name": "stdout",
     "output_type": "stream",
     "text": [
      "Mean speed is: 32.24258580925573 m/hrs\n"
     ]
    }
   ],
   "source": [
    "# Now calculate mean speed \n",
    "mean_speed = np.mean(speed)\n",
    "print(\"Mean speed is:\",mean_speed,\"m/hrs\")"
   ]
  },
  {
   "cell_type": "code",
   "execution_count": 5,
   "id": "b699264a",
   "metadata": {
    "scrolled": true
   },
   "outputs": [
    {
     "name": "stdout",
     "output_type": "stream",
     "text": [
      "Total 13333 rides were taken in the month of February\n"
     ]
    }
   ],
   "source": [
    "month = taxi[:,1]\n",
    "rides_feb = month[month == 2]\n",
    "print(\"Total\",rides_feb.shape[0],\"rides were taken in the month of February\")"
   ]
  },
  {
   "cell_type": "code",
   "execution_count": 6,
   "id": "4fabb942",
   "metadata": {},
   "outputs": [
    {
     "name": "stdout",
     "output_type": "stream",
     "text": [
      "Total 16 rides where tipped more than $50\n"
     ]
    }
   ],
   "source": [
    "tips = taxi[:,-3]\n",
    "tips_50 = tips[tips > 50]\n",
    "print(\"Total\",tips_50.shape[0],\"rides where tipped more than $50\")"
   ]
  },
  {
   "cell_type": "code",
   "execution_count": 7,
   "id": "76851b7d",
   "metadata": {},
   "outputs": [
    {
     "name": "stdout",
     "output_type": "stream",
     "text": [
      "Total 11832 rides were destined to drop-off at JFK Airport\n"
     ]
    }
   ],
   "source": [
    "drop = taxi[:,6]\n",
    "jfk_drop = drop[drop == 2]\n",
    "print(\"Total\",jfk_drop.shape[0],\"rides were destined to drop-off at JFK Airport\")"
   ]
  },
  {
   "cell_type": "code",
   "execution_count": 8,
   "id": "08eed5ed",
   "metadata": {},
   "outputs": [],
   "source": [
    "total = taxi[:,-2]"
   ]
  },
  {
   "cell_type": "code",
   "execution_count": 9,
   "id": "27fcd484",
   "metadata": {},
   "outputs": [
    {
     "data": {
      "text/plain": [
       "4385454.29"
      ]
     },
     "execution_count": 9,
     "metadata": {},
     "output_type": "execute_result"
    }
   ],
   "source": [
    "total.sum()"
   ]
  },
  {
   "cell_type": "code",
   "execution_count": null,
   "id": "f94acb74",
   "metadata": {},
   "outputs": [],
   "source": []
  }
 ],
 "metadata": {
  "kernelspec": {
   "display_name": "Python 3 (ipykernel)",
   "language": "python",
   "name": "python3"
  },
  "language_info": {
   "codemirror_mode": {
    "name": "ipython",
    "version": 3
   },
   "file_extension": ".py",
   "mimetype": "text/x-python",
   "name": "python",
   "nbconvert_exporter": "python",
   "pygments_lexer": "ipython3",
   "version": "3.9.7"
  }
 },
 "nbformat": 4,
 "nbformat_minor": 5
}
